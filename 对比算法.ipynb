{
 "cells": [
  {
   "cell_type": "code",
   "execution_count": 9,
   "id": "3fcbabd0-2c09-4c1d-bebe-f68e6c4f4e52",
   "metadata": {},
   "outputs": [
    {
     "name": "stdout",
     "output_type": "stream",
     "text": [
      "the meeting started with a brief introduction of the bill , then barry hughes introduced the evidence on the law currently stands .\n",
      "he said that there were a range of offences created by the criminal law , going back to the offences against the person act 1861 in the middle of century before last , which provide for offences of assault against a variety of people , including , in particular , acts such as the children and young persons act 1933 , drink driving , and indecent exposure .\n",
      "then , he went on to explain that section 58 of children act 2004 did make it a defence for a person accused of assaulting a child to argue that it was a case where they were acting only so as to impose reasonable punishment upon the child .\n",
      "next , the meeting discussed the practical application of this legislation in wales .\n",
      "barrys hughees said they would almost certainly work on it on a basis that the number of prosecutions would be very small and they had two or three specialists trained in this so that any case that came through would go to people who 've got a close network and can talk with each other .\n",
      "this meeting was the eleventh evidence session on the children abolition of defense of reasonable publishment wales bill .\n",
      "barry hughes was there to answer questions related to the bill .\n",
      "six main topics that had been discussed or explained .\n",
      "the first one was how the bill protected the children in terms of prosecutions .\n",
      "the second part explained the divergence between regions and the bill 's implication on england .\n",
      "the third part explained how the law was implemented , and the fourth talked about prosecutions and potential alternatives .\n",
      "barry hughes then further explained our-of-court disposals and responded to a specific infrastructure for these cases .\n",
      "in the last part , the meeting turned to discuss a number of unintended consequences related to the bill .\n"
     ]
    }
   ],
   "source": [
    "import torch\n",
    "data=torch.load(\"outputs/sampled_results/QMSum-DYLE/test.gen\")\n",
    "print(data[0][0])\n",
    "print(data[1][0])"
   ]
  },
  {
   "cell_type": "code",
   "execution_count": null,
   "id": "95ed64fe-9b07-4ab4-873d-29c7d45f07ee",
   "metadata": {},
   "outputs": [],
   "source": []
  }
 ],
 "metadata": {
  "kernelspec": {
   "display_name": "Python 3 (ipykernel)",
   "language": "python",
   "name": "python3"
  },
  "language_info": {
   "codemirror_mode": {
    "name": "ipython",
    "version": 3
   },
   "file_extension": ".py",
   "mimetype": "text/x-python",
   "name": "python",
   "nbconvert_exporter": "python",
   "pygments_lexer": "ipython3",
   "version": "3.8.10"
  }
 },
 "nbformat": 4,
 "nbformat_minor": 5
}
